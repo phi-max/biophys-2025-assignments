{
 "cells": [
  {
   "cell_type": "markdown",
   "metadata": {},
   "source": [
    "# Notebook for Exercise 6: Molecular Dynamics\n",
    "\n",
    "----\n",
    "\n",
    "Replace all `???` by the correct values/variables.\n",
    "\n",
    "We first have to import numpy and matplotlib:"
   ]
  },
  {
   "cell_type": "code",
   "execution_count": null,
   "metadata": {
    "colab": {
     "base_uri": "https://localhost:8080/",
     "height": 524
    },
    "id": "0lh9Dlzh9URj",
    "outputId": "617d9b41-7f09-4f59-ddd5-2cca98e6f828"
   },
   "outputs": [],
   "source": [
    "import numpy as np\n",
    "from matplotlib import pyplot as plt "
   ]
  },
  {
   "cell_type": "markdown",
   "metadata": {},
   "source": [
    "Next, we need to define the parameters of the simulation:"
   ]
  },
  {
   "cell_type": "code",
   "execution_count": null,
   "metadata": {
    "colab": {
     "base_uri": "https://localhost:8080/",
     "height": 524
    },
    "id": "0lh9Dlzh9URj",
    "outputId": "617d9b41-7f09-4f59-ddd5-2cca98e6f828"
   },
   "outputs": [],
   "source": [
    "N = ???    # Number of integration steps\n",
    "k = 0.03   # force constant\n",
    "m = 1.0    # mass of the particle\n",
    "dt = 1.0   # integration time step"
   ]
  },
  {
   "cell_type": "markdown",
   "metadata": {},
   "source": [
    "----\n",
    "## 1) Euler algorithm:\n",
    "\n",
    "Initialize the arrays to store the positions $x$ and velocities $v$ of all timesteps:"
   ]
  },
  {
   "cell_type": "code",
   "execution_count": null,
   "metadata": {
    "colab": {
     "base_uri": "https://localhost:8080/",
     "height": 524
    },
    "id": "0lh9Dlzh9URj",
    "outputId": "617d9b41-7f09-4f59-ddd5-2cca98e6f828"
   },
   "outputs": [],
   "source": [
    "x= np.zeros(???)   \n",
    "v= np.zeros(???)"
   ]
  },
  {
   "cell_type": "markdown",
   "metadata": {},
   "source": [
    "Now, set the initial conditions:"
   ]
  },
  {
   "cell_type": "code",
   "execution_count": null,
   "metadata": {
    "colab": {
     "base_uri": "https://localhost:8080/",
     "height": 524
    },
    "id": "0lh9Dlzh9URj",
    "outputId": "617d9b41-7f09-4f59-ddd5-2cca98e6f828"
   },
   "outputs": [],
   "source": [
    "x[0] = ???\n",
    "v[0] = ???"
   ]
  },
  {
   "cell_type": "markdown",
   "metadata": {},
   "source": [
    "We calculate the individual timesteps in a *for*-loop:"
   ]
  },
  {
   "cell_type": "code",
   "execution_count": null,
   "metadata": {
    "colab": {
     "base_uri": "https://localhost:8080/",
     "height": 524
    },
    "id": "0lh9Dlzh9URj",
    "outputId": "617d9b41-7f09-4f59-ddd5-2cca98e6f828"
   },
   "outputs": [],
   "source": [
    "for i in range(N-1):\n",
    "    \n",
    "  # new position:\n",
    "    x[i+1] = x[i] + ???\n",
    "    \n",
    "  # new force and velocity \n",
    "    F= -k * ???  \n",
    "    v[i+1] = v[i] + ???"
   ]
  },
  {
   "cell_type": "markdown",
   "metadata": {},
   "source": [
    "----\n",
    "## 2) Verlet algorithm"
   ]
  },
  {
   "cell_type": "markdown",
   "metadata": {},
   "source": [
    "Define variables for Verlet positions $vx$ and velocities $vv$ as before:"
   ]
  },
  {
   "cell_type": "code",
   "execution_count": null,
   "metadata": {
    "colab": {
     "base_uri": "https://localhost:8080/",
     "height": 524
    },
    "id": "0lh9Dlzh9URj",
    "outputId": "617d9b41-7f09-4f59-ddd5-2cca98e6f828"
   },
   "outputs": [],
   "source": [
    "vx = ???\n",
    "vv = ???"
   ]
  },
  {
   "cell_type": "markdown",
   "metadata": {},
   "source": [
    "Set initial conditions as before:"
   ]
  },
  {
   "cell_type": "code",
   "execution_count": null,
   "metadata": {
    "colab": {
     "base_uri": "https://localhost:8080/",
     "height": 524
    },
    "id": "0lh9Dlzh9URj",
    "outputId": "617d9b41-7f09-4f59-ddd5-2cca98e6f828"
   },
   "outputs": [],
   "source": [
    "vx[0] = ???\n",
    "vv[0] = ???"
   ]
  },
  {
   "cell_type": "markdown",
   "metadata": {},
   "source": [
    "The first step is special and is calculated separately:"
   ]
  },
  {
   "cell_type": "code",
   "execution_count": null,
   "metadata": {
    "colab": {
     "base_uri": "https://localhost:8080/",
     "height": 524
    },
    "id": "0lh9Dlzh9URj",
    "outputId": "617d9b41-7f09-4f59-ddd5-2cca98e6f828"
   },
   "outputs": [],
   "source": [
    "F= -k * ???;\n",
    "vx[1] = vx[0] + ??? + ???"
   ]
  },
  {
   "cell_type": "markdown",
   "metadata": {},
   "source": [
    "All remaining timesteps can be calculated again in a *for*-loop:"
   ]
  },
  {
   "cell_type": "code",
   "execution_count": null,
   "metadata": {
    "colab": {
     "base_uri": "https://localhost:8080/",
     "height": 524
    },
    "id": "0lh9Dlzh9URj",
    "outputId": "617d9b41-7f09-4f59-ddd5-2cca98e6f828"
   },
   "outputs": [],
   "source": [
    "for i in ???:\n",
    "    # force:\n",
    "    F = ???\n",
    "\n",
    "    # position:\n",
    "    vx[i+1] = ???\n",
    "    \n",
    "    # velocity:\n",
    "    vv[i] = ???"
   ]
  },
  {
   "cell_type": "markdown",
   "metadata": {},
   "source": [
    "----\n",
    "## 3) Analytical solution\n",
    "\n",
    "$ x(t)= A*cos(wt) + B*sin(wt) $\n",
    "\n",
    "Define empty array again for positions:"
   ]
  },
  {
   "cell_type": "code",
   "execution_count": null,
   "metadata": {},
   "outputs": [],
   "source": [
    "ax = np.zeros(N)"
   ]
  },
  {
   "cell_type": "markdown",
   "metadata": {},
   "source": [
    "Set amplitudes and frequency from initial conditions:"
   ]
  },
  {
   "cell_type": "code",
   "execution_count": null,
   "metadata": {
    "colab": {
     "base_uri": "https://localhost:8080/",
     "height": 524
    },
    "id": "0lh9Dlzh9URj",
    "outputId": "617d9b41-7f09-4f59-ddd5-2cca98e6f828"
   },
   "outputs": [],
   "source": [
    "w = np.sqrt(k/m)\n",
    "A = x[0]\n",
    "B = v[0] / w"
   ]
  },
  {
   "cell_type": "markdown",
   "metadata": {},
   "source": [
    "Calculate analytical solution:"
   ]
  },
  {
   "cell_type": "code",
   "execution_count": null,
   "metadata": {
    "colab": {
     "base_uri": "https://localhost:8080/",
     "height": 524
    },
    "id": "0lh9Dlzh9URj",
    "outputId": "617d9b41-7f09-4f59-ddd5-2cca98e6f828"
   },
   "outputs": [],
   "source": [
    "for i in range(N):\n",
    "    ax[i] = ??? * np.cos(???) + ??? * np.sin(???)"
   ]
  },
  {
   "cell_type": "markdown",
   "metadata": {},
   "source": [
    "----\n",
    "## 4) Plot and compare the solutions\n",
    "\n",
    "For this, we first need an array for the timepoints $t$ to plot against:"
   ]
  },
  {
   "cell_type": "code",
   "execution_count": null,
   "metadata": {
    "colab": {
     "base_uri": "https://localhost:8080/",
     "height": 524
    },
    "id": "0lh9Dlzh9URj",
    "outputId": "617d9b41-7f09-4f59-ddd5-2cca98e6f828"
   },
   "outputs": [],
   "source": [
    "t = np.arange(N) * dt"
   ]
  },
  {
   "cell_type": "markdown",
   "metadata": {},
   "source": [
    "Use matplotlib to plot all three curves in one axis:"
   ]
  },
  {
   "cell_type": "code",
   "execution_count": null,
   "metadata": {
    "colab": {
     "base_uri": "https://localhost:8080/",
     "height": 524
    },
    "id": "0lh9Dlzh9URj",
    "outputId": "617d9b41-7f09-4f59-ddd5-2cca98e6f828"
   },
   "outputs": [],
   "source": [
    "plt.plot(t, x, '.')\n",
    "plt.plot(t, vx, 'x')\n",
    "plt.plot(t, ax,'-')\n",
    "plt.legend(['Euler', 'Verlet', 'Analytical'])\n",
    "plt.show()"
   ]
  }
 ],
 "metadata": {
  "colab": {
   "provenance": []
  },
  "kernelspec": {
   "display_name": "Python 3",
   "language": "python",
   "name": "python3"
  },
  "language_info": {
   "codemirror_mode": {
    "name": "ipython",
    "version": 3
   },
   "file_extension": ".py",
   "mimetype": "text/x-python",
   "name": "python",
   "nbconvert_exporter": "python",
   "pygments_lexer": "ipython3",
   "version": "3.8.8"
  }
 },
 "nbformat": 4,
 "nbformat_minor": 1
}
