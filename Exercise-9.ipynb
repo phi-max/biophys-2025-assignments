{
 "cells": [
  {
   "cell_type": "markdown",
   "metadata": {},
   "source": [
    "# Notebook for Exercise 9: Langevin Simulation"
   ]
  },
  {
   "cell_type": "markdown",
   "metadata": {},
   "source": [
    "Import numpy and matplotlib:"
   ]
  },
  {
   "cell_type": "code",
   "execution_count": 1,
   "metadata": {
    "colab": {
     "base_uri": "https://localhost:8080/",
     "height": 283
    },
    "id": "zVie_cEcyloK",
    "outputId": "06f867ac-7b23-44ef-b675-22b116a77e57"
   },
   "outputs": [],
   "source": [
    "import numpy as np\n",
    "from matplotlib import pyplot as plt"
   ]
  },
  {
   "cell_type": "markdown",
   "metadata": {},
   "source": [
    "Define simulation parameters:"
   ]
  },
  {
   "cell_type": "code",
   "execution_count": 2,
   "metadata": {
    "colab": {
     "base_uri": "https://localhost:8080/",
     "height": 283
    },
    "id": "zVie_cEcyloK",
    "outputId": "06f867ac-7b23-44ef-b675-22b116a77e57"
   },
   "outputs": [],
   "source": [
    "N= 100000  # Number of integration steps\n",
    "k= 0.5     # force constant\n",
    "m= 1.0     # mass of the particle\n",
    "dt= 0.5    # integration time step\n",
    "\n",
    "# We use reduced units and set kT = 1\n",
    "kT_target= 1.0  # Temperature\n",
    "\n",
    "friction= 5"
   ]
  },
  {
   "cell_type": "markdown",
   "metadata": {},
   "source": [
    "Initialize arrays for positions and velocities:"
   ]
  },
  {
   "cell_type": "code",
   "execution_count": 3,
   "metadata": {
    "colab": {
     "base_uri": "https://localhost:8080/",
     "height": 283
    },
    "id": "zVie_cEcyloK",
    "outputId": "06f867ac-7b23-44ef-b675-22b116a77e57"
   },
   "outputs": [],
   "source": [
    "x= np.zeros(N)   # array for x-coordinates initialized with zeros\n",
    "v= np.zeros(N)   # array for velocities           \"         \""
   ]
  },
  {
   "cell_type": "markdown",
   "metadata": {},
   "source": [
    "Starting conditions (change as indicated in the exercise):"
   ]
  },
  {
   "cell_type": "code",
   "execution_count": 4,
   "metadata": {
    "colab": {
     "base_uri": "https://localhost:8080/",
     "height": 283
    },
    "id": "zVie_cEcyloK",
    "outputId": "06f867ac-7b23-44ef-b675-22b116a77e57"
   },
   "outputs": [],
   "source": [
    "# Initial condition\n",
    "x[0]= 0.0\n",
    "v[0]= 0.0\n",
    "F= 0.0"
   ]
  },
  {
   "cell_type": "markdown",
   "metadata": {},
   "source": [
    "Define time axis:"
   ]
  },
  {
   "cell_type": "code",
   "execution_count": 5,
   "metadata": {
    "colab": {
     "base_uri": "https://localhost:8080/",
     "height": 283
    },
    "id": "zVie_cEcyloK",
    "outputId": "06f867ac-7b23-44ef-b675-22b116a77e57"
   },
   "outputs": [],
   "source": [
    "# time t at integration step i is t[i]\n",
    "t= np.arange(N) * dt"
   ]
  },
  {
   "cell_type": "markdown",
   "metadata": {},
   "source": [
    "Implementation of Langevin Velocity Verlet Integrator\n",
    "\n",
    "*(from Bussi and Parrinello. Phys. Rev. E 75, 056707 (2007))*"
   ]
  },
  {
   "cell_type": "code",
   "execution_count": 6,
   "metadata": {
    "colab": {
     "base_uri": "https://localhost:8080/",
     "height": 283
    },
    "id": "zVie_cEcyloK",
    "outputId": "06f867ac-7b23-44ef-b675-22b116a77e57"
   },
   "outputs": [],
   "source": [
    "# (np.random.randn() generates a Gaussian distributed random number with a standard deviation of 1)\n",
    "\n",
    "h= dt / 2.0  # half time step\n",
    "\n",
    "c1= np.exp(-0.25*friction*h)\n",
    "c2= np.sqrt( (1-c1*c1) * kT_target * m )\n",
    "\n",
    "for i in range(0,N-1):\n",
    "    v[i+1]= c1 * v[i] + c2 * np.random.randn()\n",
    "    v[i+1]+= 0.5 * F * h\n",
    "\n",
    "    x[i+1]= x[i] + v[i+1] * h\n",
    "\n",
    "    F = 0            # free diffusion: no external force\n",
    "    \n",
    "    # replace this with the force F(x) = -dU/dx in the \n",
    "    # double-well potential U(x)= 0.002 * (x-5)^2 * ((x+5)^2 + 2)\n",
    "\n",
    "    v[i+1]+= 0.5 * F * h\n",
    "    v[i+1]= c1 * v[i+1] + c2 * np.random.randn()"
   ]
  },
  {
   "cell_type": "markdown",
   "metadata": {},
   "source": [
    "Here you can implement your analysis:"
   ]
  },
  {
   "cell_type": "code",
   "execution_count": 7,
   "metadata": {
    "colab": {
     "base_uri": "https://localhost:8080/",
     "height": 283
    },
    "id": "zVie_cEcyloK",
    "outputId": "06f867ac-7b23-44ef-b675-22b116a77e57"
   },
   "outputs": [
    {
     "name": "stdout",
     "output_type": "stream",
     "text": [
      "T/(kT)=  1.0094447191936171\n"
     ]
    },
    {
     "data": {
      "image/png": "[encoded data removed]",
      "text/plain": [
       "<Figure size 432x288 with 1 Axes>"
      ]
     },
     "metadata": {
      "needs_background": "light"
     },
     "output_type": "display_data"
    }
   ],
   "source": [
    "# x contains the positions\n",
    "# v contains the velocities\n",
    "\n",
    "# e.g.: Temperature\n",
    "print(\"T/(kT)= \", np.mean(0.5*m*v**2 * 2.0))\n",
    "\n",
    "plt.plot(t, x, '-')\n",
    "plt.show()"
   ]
  },
  {
   "cell_type": "code",
   "execution_count": null,
   "metadata": {
    "id": "YRReTkY0jIqu"
   },
   "outputs": [],
   "source": []
  }
 ],
 "metadata": {
  "colab": {
   "provenance": []
  },
  "kernelspec": {
   "display_name": "Python 3",
   "language": "python",
   "name": "python3"
  },
  "language_info": {
   "codemirror_mode": {
    "name": "ipython",
    "version": 3
   },
   "file_extension": ".py",
   "mimetype": "text/x-python",
   "name": "python",
   "nbconvert_exporter": "python",
   "pygments_lexer": "ipython3",
   "version": "3.8.8"
  }
 },
 "nbformat": 4,
 "nbformat_minor": 1
}
