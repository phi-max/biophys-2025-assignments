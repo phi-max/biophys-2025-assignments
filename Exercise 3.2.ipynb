{
 "cells": [
  {
   "cell_type": "code",
   "execution_count": 1,
   "id": "a21411b9",
   "metadata": {},
   "outputs": [],
   "source": [
    "import numpy as np"
   ]
  },
  {
   "cell_type": "code",
   "execution_count": 2,
   "id": "c6ced622",
   "metadata": {},
   "outputs": [],
   "source": [
    "kb = 1.38E-23\n",
    "T = 298\n",
    "E = kb * T * np.array((1,2,2))"
   ]
  },
  {
   "cell_type": "code",
   "execution_count": 3,
   "id": "14893e4e",
   "metadata": {},
   "outputs": [
    {
     "data": {
      "text/plain": [
       "array([4.1124e-21, 8.2248e-21, 8.2248e-21])"
      ]
     },
     "execution_count": 3,
     "metadata": {},
     "output_type": "execute_result"
    }
   ],
   "source": [
    "E"
   ]
  },
  {
   "cell_type": "code",
   "execution_count": 4,
   "id": "970f23dd",
   "metadata": {},
   "outputs": [],
   "source": [
    "Z = np.sum(np.exp(-E/(kb*T)))"
   ]
  },
  {
   "cell_type": "code",
   "execution_count": 5,
   "id": "a2b8ab18",
   "metadata": {},
   "outputs": [
    {
     "data": {
      "text/plain": [
       "np.float64(0.6385500076446677)"
      ]
     },
     "execution_count": 5,
     "metadata": {},
     "output_type": "execute_result"
    }
   ],
   "source": [
    "Z"
   ]
  },
  {
   "cell_type": "code",
   "execution_count": 6,
   "id": "7d7d4f67",
   "metadata": {},
   "outputs": [],
   "source": [
    "F1 = -kb*T*np.log(Z)"
   ]
  },
  {
   "cell_type": "code",
   "execution_count": 7,
   "id": "e241c2c6",
   "metadata": {},
   "outputs": [
    {
     "name": "stdout",
     "output_type": "stream",
     "text": [
      "1.844638758425833e-21\n"
     ]
    }
   ],
   "source": [
    "print(F1)"
   ]
  },
  {
   "cell_type": "code",
   "execution_count": 8,
   "id": "8e95111f",
   "metadata": {},
   "outputs": [],
   "source": [
    "p = np.exp(-E/(kb*T))/Z"
   ]
  },
  {
   "cell_type": "code",
   "execution_count": 9,
   "id": "d00c2899",
   "metadata": {},
   "outputs": [
    {
     "name": "stdout",
     "output_type": "stream",
     "text": [
      "[0.57611688 0.21194156 0.21194156]\n"
     ]
    }
   ],
   "source": [
    "print(p)"
   ]
  },
  {
   "cell_type": "code",
   "execution_count": 10,
   "id": "914ba0b6",
   "metadata": {},
   "outputs": [],
   "source": [
    "U = np.sum(E*p)"
   ]
  },
  {
   "cell_type": "code",
   "execution_count": 11,
   "id": "cab4fa66",
   "metadata": {},
   "outputs": [],
   "source": [
    "S = -kb * np.sum(p * np.log(p))"
   ]
  },
  {
   "cell_type": "code",
   "execution_count": 12,
   "id": "b3ccf86c",
   "metadata": {},
   "outputs": [],
   "source": [
    "F2 = U - T*S"
   ]
  },
  {
   "cell_type": "code",
   "execution_count": 13,
   "id": "bfc94f72",
   "metadata": {},
   "outputs": [
    {
     "name": "stdout",
     "output_type": "stream",
     "text": [
      "1.8446387584258333e-21\n"
     ]
    }
   ],
   "source": [
    "print(F2)"
   ]
  },
  {
   "cell_type": "code",
   "execution_count": 14,
   "id": "7544dc0a",
   "metadata": {},
   "outputs": [
    {
     "data": {
      "text/plain": [
       "np.float64(-3.76158192263132e-37)"
      ]
     },
     "execution_count": 14,
     "metadata": {},
     "output_type": "execute_result"
    }
   ],
   "source": [
    "F1 - F2"
   ]
  },
  {
   "cell_type": "code",
   "execution_count": null,
   "id": "fec12acd",
   "metadata": {},
   "outputs": [],
   "source": []
  }
 ],
 "metadata": {
  "kernelspec": {
   "display_name": "Python 3 (ipykernel)",
   "language": "python",
   "name": "python3"
  },
  "language_info": {
   "codemirror_mode": {
    "name": "ipython",
    "version": 3
   },
   "file_extension": ".py",
   "mimetype": "text/x-python",
   "name": "python",
   "nbconvert_exporter": "python",
   "pygments_lexer": "ipython3",
   "version": "3.12.8"
  }
 },
 "nbformat": 4,
 "nbformat_minor": 5
}
